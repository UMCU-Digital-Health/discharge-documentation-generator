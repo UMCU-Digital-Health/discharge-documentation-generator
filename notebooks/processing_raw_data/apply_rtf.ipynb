{
 "cells": [
  {
   "cell_type": "code",
   "execution_count": null,
   "metadata": {},
   "outputs": [],
   "source": [
    "from pathlib import Path\n",
    "\n",
    "import pandas as pd\n",
    "from striprtf.striprtf import rtf_to_text\n"
   ]
  },
  {
   "cell_type": "code",
   "execution_count": null,
   "metadata": {},
   "outputs": [],
   "source": [
    "data_folder = Path(\n",
    "    \"/mapr/administratielast/administratielast_datamanager/ontslagdocumentatie/\"\n",
    ")\n",
    "\n",
    "file_name = 'HiX_patient_files_CAR_april'"
   ]
  },
  {
   "cell_type": "code",
   "execution_count": null,
   "metadata": {},
   "outputs": [],
   "source": [
    "# read file\n",
    "df = pd.read_json(Path(data_folder / file_name).with_suffix(\".json\"))\n",
    "display(df)"
   ]
  },
  {
   "cell_type": "code",
   "execution_count": null,
   "metadata": {},
   "outputs": [],
   "source": [
    "# apply rtf decoding to TEXT column \n",
    "df['TEXT'] = df['TEXT'].apply(rtf_to_text)\n",
    "display(df)"
   ]
  },
  {
   "cell_type": "code",
   "execution_count": null,
   "metadata": {},
   "outputs": [],
   "source": [
    "# save as json\n",
    "df.to_json(Path(data_folder / (file_name+ '_rtf_decoded')).with_suffix(\".json\"))"
   ]
  },
  {
   "cell_type": "code",
   "execution_count": null,
   "metadata": {},
   "outputs": [],
   "source": [
    "# read the saved file\n",
    "df = pd.read_json(Path(data_folder / (file_name+ '_rtf_decoded')).with_suffix(\".json\"))\n",
    "display(df)"
   ]
  }
 ],
 "metadata": {
  "language_info": {
   "name": "python"
  }
 },
 "nbformat": 4,
 "nbformat_minor": 2
}
