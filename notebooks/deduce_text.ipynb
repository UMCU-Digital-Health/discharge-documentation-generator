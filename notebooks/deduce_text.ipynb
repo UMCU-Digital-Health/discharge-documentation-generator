{
 "cells": [
  {
   "cell_type": "markdown",
   "metadata": {},
   "source": [
    "# Use DEDUCE to pseudonomise text"
   ]
  },
  {
   "cell_type": "code",
   "execution_count": null,
   "metadata": {},
   "outputs": [],
   "source": [
    "from pathlib import Path\n",
    "\n",
    "import deduce\n",
    "import pandas as pd\n",
    "from IPython.display import display"
   ]
  },
  {
   "cell_type": "code",
   "execution_count": null,
   "metadata": {},
   "outputs": [],
   "source": [
    "def apply_deduce(df: pd.DataFrame, col_name: str):\n",
    "    df[col_name] = df[col_name].apply(\n",
    "        lambda x: deduce.deidentify_annotations(deduce.annotate_text(x, dates=False))\n",
    "    )\n",
    "    return df"
   ]
  },
  {
   "cell_type": "code",
   "execution_count": null,
   "metadata": {},
   "outputs": [],
   "source": [
    "data_folder = Path(\n",
    "    \"/mapr/administratielast/administratielast_datamanager/ontslagdocumentatie/\"\n",
    ")"
   ]
  },
  {
   "cell_type": "markdown",
   "metadata": {},
   "source": [
    "## Apply DEDUCE to Metavision data"
   ]
  },
  {
   "cell_type": "code",
   "execution_count": null,
   "metadata": {},
   "outputs": [],
   "source": [
    "metavision_data = pd.read_json(data_folder / \"metavision_extraction.json\")\n",
    "metavision_data = apply_deduce(metavision_data, \"valueString\")\n",
    "display(metavision_data)"
   ]
  },
  {
   "cell_type": "code",
   "execution_count": null,
   "metadata": {},
   "outputs": [],
   "source": [
    "metavision_data[[\"pseudo_id\", \"subject_Patient_value\"]].to_csv(\n",
    "    data_folder / \"pseudo_table.csv\",\n",
    "    index=False,\n",
    ")"
   ]
  },
  {
   "cell_type": "code",
   "execution_count": null,
   "metadata": {},
   "outputs": [],
   "source": [
    "metavision_data.drop(columns=\"subject_Patient_value\").to_csv(\n",
    "    data_folder / \"pseudonomised_metavision_data.csv\",\n",
    "    index=False,\n",
    ")"
   ]
  },
  {
   "cell_type": "markdown",
   "metadata": {},
   "source": [
    "## Apply DEDUCE to HiX data"
   ]
  },
  {
   "cell_type": "code",
   "execution_count": null,
   "metadata": {},
   "outputs": [],
   "source": [
    "discharge_data = pd.read_json(data_folder / \"hix_discharge_docs.json\")\n",
    "discharge_data = apply_deduce(discharge_data, \"content_attachment1_plain_data\")\n",
    "display(discharge_data)"
   ]
  },
  {
   "cell_type": "code",
   "execution_count": null,
   "metadata": {},
   "outputs": [],
   "source": [
    "discharge_data[[\"pseudo_id\", \"subject_Patient_value\"]].to_csv(\n",
    "    data_folder / \"HiX_pseudo_table.csv\",\n",
    "    index=False,\n",
    ")"
   ]
  },
  {
   "cell_type": "code",
   "execution_count": null,
   "metadata": {},
   "outputs": [],
   "source": [
    "discharge_data.drop(columns=\"subject_Patient_value\").to_csv(\n",
    "    data_folder / \"pseudonomised_HiX_discharge_data.csv\",\n",
    "    index=False,\n",
    ")"
   ]
  },
  {
   "cell_type": "code",
   "execution_count": null,
   "metadata": {},
   "outputs": [],
   "source": [
    "hix_patient_files = pd.read_json(data_folder / \"hix_patient_files.json\")\n",
    "hix_patient_files = apply_deduce(hix_patient_files, \"item_answer_value_valueString\")\n",
    "display(hix_patient_files)"
   ]
  },
  {
   "cell_type": "code",
   "execution_count": null,
   "metadata": {},
   "outputs": [],
   "source": [
    "hix_patient_files.to_csv(\n",
    "    data_folder / \"pseudonomised_HiX_patient_files.csv\", index=False\n",
    ")"
   ]
  }
 ],
 "metadata": {
  "kernelspec": {
   "display_name": "discharge_documentation_env",
   "language": "python",
   "name": "python3"
  },
  "language_info": {
   "codemirror_mode": {
    "name": "ipython",
    "version": 3
   },
   "file_extension": ".py",
   "mimetype": "text/x-python",
   "name": "python",
   "nbconvert_exporter": "python",
   "pygments_lexer": "ipython3",
   "version": "3.8.12"
  }
 },
 "nbformat": 4,
 "nbformat_minor": 2
}
