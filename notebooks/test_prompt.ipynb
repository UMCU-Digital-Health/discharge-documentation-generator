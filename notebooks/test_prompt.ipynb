{
 "cells": [
  {
   "cell_type": "markdown",
   "metadata": {},
   "source": [
    "# Notebook to test some prompts"
   ]
  },
  {
   "cell_type": "code",
   "execution_count": null,
   "metadata": {},
   "outputs": [],
   "source": [
    "import os\n",
    "\n",
    "from dotenv import load_dotenv\n",
    "from openai import AzureOpenAI\n",
    "\n",
    "load_dotenv()"
   ]
  },
  {
   "cell_type": "code",
   "execution_count": null,
   "metadata": {},
   "outputs": [],
   "source": [
    "client = AzureOpenAI(\n",
    "    api_version=\"2023-05-15\",\n",
    "    api_key=os.getenv(\"AZURE_OPENAI_KEY\"),\n",
    "    azure_endpoint=os.getenv(\"AZURE_OPENAI_ENDPOINT\"),\n",
    ")"
   ]
  },
  {
   "cell_type": "code",
   "execution_count": null,
   "metadata": {},
   "outputs": [],
   "source": [
    "deployment_name = \"aiva-gpt\"\n",
    "\n",
    "response = client.chat.completions.create(\n",
    "    model=deployment_name,\n",
    "    messages=[\n",
    "        {\n",
    "            \"role\": \"system\",\n",
    "            \"content\": r\"\"\"Al je antwoorden geef je terug als JSON, bijvoorbeeld: [{'vraag': 'Rookt de patient', 'antwoord': 'Ja 2 sigaretten per dag'}].\n",
    "            Geef alleen dit JSON object terug, geef verder geen output terug. Hou het antwoord in het JSON object kort.\n",
    "            Als je het antwoord niet weet, geef dat dan aan en verzin niet iets\"\"\",\n",
    "        },\n",
    "        {\n",
    "            \"role\": \"user\",\n",
    "            \"content\": \"\"\"Hieronder volgt het dossier van een patient, geef met behulp van dit dossier antwoord op de volgende vragen:\n",
    "                - Wie heeft de doorverwijzing gedaan, wat was de specialisme van de locatie en de reden?\n",
    "                - Wat was de voorgeschiedenis?\n",
    "                - Wat was de conclusie?\n",
    "                - Wat voor medicatie wordt gebruikt?\n",
    "                - Rookt de patient?\n",
    "                - Gebruikt de patient alcohol en hoeveel?\n",
    "                - Gebruikt de patient drugs en hoeveel?\n",
    "                - Is er sprake van Hypertensie?\n",
    "                - Is er sprake van Hypercholesterolemie?\n",
    "                - Is er sprake van Diabetes mellitus? \n",
    "                \"\"\",\n",
    "        },\n",
    "        {\n",
    "            \"role\": \"user\",\n",
    "            \"content\": \"\"\"\n",
    "                Harry is doorverwezen vanuit de huisarts in Houten, omdat hij last heeft van bepaalde kenmerken waarvan de huisarts vermoedt dat er een genetische oorzaak is.\n",
    "                De patient gebruikt geen drugs en rookt niet, maar drinkt wel af en toe een glaasje wijn. \n",
    "                Af en toe slikt de patient ibuprofen tegen de hoofdpijn, hier heeft hij al een lange tijd last van.\n",
    "                De arts merkte op dat de patient last leek te hebben van afwijkingen aan het gezicht zoals scheve oren en is daarnaast eerder in het ziekenhuis geweest voor een afwijking aan de nieren.\n",
    "            \"\"\",\n",
    "        },\n",
    "    ],\n",
    ")"
   ]
  },
  {
   "cell_type": "code",
   "execution_count": null,
   "metadata": {},
   "outputs": [],
   "source": [
    "print(response.model_dump()[\"choices\"][0][\"message\"][\"content\"])"
   ]
  }
 ],
 "metadata": {
  "kernelspec": {
   "display_name": "Python 3",
   "language": "python",
   "name": "python3"
  },
  "language_info": {
   "codemirror_mode": {
    "name": "ipython",
    "version": 3
   },
   "file_extension": ".py",
   "mimetype": "text/x-python",
   "name": "python",
   "nbconvert_exporter": "python",
   "pygments_lexer": "ipython3",
   "version": "3.10.13"
  }
 },
 "nbformat": 4,
 "nbformat_minor": 4
}
