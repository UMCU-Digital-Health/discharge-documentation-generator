{
 "cells": [
  {
   "cell_type": "code",
   "execution_count": null,
   "metadata": {},
   "outputs": [],
   "source": [
    "from pathlib import Path\n",
    "\n",
    "import pandas as pd\n",
    "\n",
    "%load_ext autoreload\n",
    "%autoreload 2"
   ]
  },
  {
   "cell_type": "code",
   "execution_count": null,
   "metadata": {},
   "outputs": [],
   "source": [
    "data_folder = Path().cwd().parent / \"data\""
   ]
  },
  {
   "cell_type": "code",
   "execution_count": null,
   "metadata": {},
   "outputs": [],
   "source": [
    "# load metavision data\n",
    "df_metavision_new = pd.read_parquet(\n",
    "    data_folder / \"raw\" / \"pseudonomised_new_metavision_data.parquet\"\n",
    ")\n",
    "\n",
    "# include enc_id per admission\n",
    "df_metavision_new[\"enc_id\"] = df_metavision_new.groupby(\n",
    "    [\"AddmissionDate\", \"DischargeDate\"]\n",
    ").ngroup()\n",
    "\n",
    "# Rename and drop columns\n",
    "df_metavision_new = df_metavision_new.drop(\n",
    "    columns=[\"ParameterID\", \"ValidationTime\"]\n",
    ").rename(\n",
    "    columns={\n",
    "        \"AddmissionDate\": \"admissionDate\",\n",
    "        \"DischargeDate\": \"dischargeDate\",\n",
    "        \"Name\": \"department\",\n",
    "        \"pseudo_id\": \"pseudo_id\",\n",
    "        \"Time\": \"time\",\n",
    "        \"Abbreviation\": \"description\",\n",
    "        \"Value\": \"value\",\n",
    "        \"enc_id\": \"enc_id\",\n",
    "    }\n",
    ")\n",
    "display(df_metavision_new)\n"
   ]
  },
  {
   "cell_type": "code",
   "execution_count": null,
   "metadata": {},
   "outputs": [],
   "source": [
    "df_HiX_discharge = pd.read_parquet(\n",
    "    data_folder / \"raw\" / \"pseudonomised_HiX_discharge_data_2.parquet\"\n",
    ")\n",
    "display(df_HiX_discharge)"
   ]
  },
  {
   "cell_type": "code",
   "execution_count": null,
   "metadata": {},
   "outputs": [],
   "source": [
    "# obtain only the specialty_Organization_value NEO\n",
    "df_HiX_discharge_NEO = df_HiX_discharge[\n",
    "    df_HiX_discharge[\"specialty_Organization_value\"] == \"NEO\"\n",
    "]\n",
    "# drop duplicates in enc_id keep last one with created\n",
    "df_HiX_discharge_NEO = df_HiX_discharge_NEO.sort_values(by=\"created\").drop_duplicates(\n",
    "    subset=\"enc_id\", keep=\"last\"\n",
    ")\n",
    "df_HiX_discharge_NEO = df_HiX_discharge_NEO.drop(\n",
    "    columns=[\"status\", \"enc2_id\", \"location_Location_value\", \"docStatus\"]\n",
    ").rename(\n",
    "    columns={\n",
    "        \"period_start\": \"admissionDate\",\n",
    "        \"period_end\": \"dischargeDate\",\n",
    "        \"specialty_Organization_value\": \"department\",\n",
    "        \"pseudo_id\": \"pseudo_id\",\n",
    "        \"created\": \"time\",\n",
    "        \"description\": \"description\",\n",
    "        \"content_attachment1_plain_data\": \"value\",\n",
    "        \"enc_id\": \"enc_id\",\n",
    "    }\n",
    ")\n",
    "\n",
    "# replace NEO with Neonatologie in department\n",
    "df_HiX_discharge_NEO[\"department\"] = df_HiX_discharge_NEO[\"department\"].replace(\n",
    "    \"NEO\", \"Neonatologie\"\n",
    ")\n",
    "# replace Ontslagbericht with Volledig Ontslagbericht in description\n",
    "df_HiX_discharge_NEO[\"description\"] = df_HiX_discharge_NEO[\"description\"].replace(\n",
    "    \"Ontslagbericht\", \"Volledig Ontslagbericht\")\n",
    "    \n",
    "# convert pseudo id to non capital letters\n",
    "df_HiX_discharge_NEO[\"pseudo_id\"] = df_HiX_discharge_NEO[\"pseudo_id\"].str.lower()\n",
    "\n",
    "display(df_HiX_discharge_NEO)"
   ]
  },
  {
   "cell_type": "code",
   "execution_count": null,
   "metadata": {},
   "outputs": [],
   "source": [
    "# get rows where unique combination of pseudo_id, admissionDate and dischargeDate from df_HiX_discharge_NEO are in metavision data\n",
    "merged_df = pd.merge(\n",
    "    df_HiX_discharge_NEO,\n",
    "    df_metavision_new,\n",
    "    how=\"inner\",\n",
    "    on=[\"pseudo_id\"],\n",
    ") \n",
    "\n",
    "\n",
    "display(merged_df)\n",
    "\n",
    "# # merge metavision and HiX discharge data NEO on pseudo_id and admissionDate\n",
    "# df_metavision_merged = pd.merge(\n",
    "#     df_metavision_new,\n",
    "#     df_HiX_discharge_NEO,\n",
    "#     how=\"outer\",\n",
    "#     # on=[\"admissionDate\", \"dischargeDate\"],\n",
    "# )\n",
    "\n",
    "# display(df_metavision_merged)"
   ]
  },
  {
   "cell_type": "code",
   "execution_count": null,
   "metadata": {},
   "outputs": [],
   "source": [
    "display(merged_df[merged_df[\"pseudo_id\"] == merged_df[\"pseudo_id\"][74250]])"
   ]
  },
  {
   "cell_type": "code",
   "execution_count": null,
   "metadata": {},
   "outputs": [],
   "source": [
    "pseudo_list_metavision = \"/mapr/administratielast/administratielast_datamanager/ontslagdocumentatie/new_metavision_pseudo_table.csv\"\n",
    "pseudo_list_dp = \"/mapr/administratielast/administratielast_datamanager/ontslagdocumentatie/HiX_patient_files_2pseudo_table.csv\"\n",
    "\n",
    "# read pseudolists\n",
    "df_pseudo_list_metavision = pd.read_csv(pseudo_list_metavision)\n",
    "df_pseudo_list_dp = pd.read_csv(pseudo_list_dp)\n",
    "display(df_pseudo_list_metavision)\n",
    "display(df_pseudo_list_dp)\n",
    "\n",
    "# get the subject_Patient_value that are in both\n",
    "merges_pseudolist = pd.merge(\n",
    "    df_pseudo_list_metavision,\n",
    "    df_pseudo_list_dp,\n",
    "    how=\"inner\",\n",
    "    on=[\"subject_Patient_value\"],\n",
    ")\n",
    "\n",
    "display(merges_pseudolist)"
   ]
  }
 ],
 "metadata": {
  "kernelspec": {
   "display_name": "aiva_ontslag_laura",
   "language": "python",
   "name": "python3"
  },
  "language_info": {
   "codemirror_mode": {
    "name": "ipython",
    "version": 3
   },
   "file_extension": ".py",
   "mimetype": "text/x-python",
   "name": "python",
   "nbconvert_exporter": "python",
   "pygments_lexer": "ipython3",
   "version": "3.10.13"
  }
 },
 "nbformat": 4,
 "nbformat_minor": 2
}
