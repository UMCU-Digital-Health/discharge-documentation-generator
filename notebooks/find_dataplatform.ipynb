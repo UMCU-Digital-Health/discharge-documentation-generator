{
 "cells": [
  {
   "cell_type": "code",
   "execution_count": null,
   "metadata": {},
   "outputs": [],
   "source": [
    "import numpy as np\n",
    "import pandas as pd\n",
    "from striprtf.striprtf import rtf_to_text"
   ]
  },
  {
   "cell_type": "code",
   "execution_count": null,
   "metadata": {},
   "outputs": [],
   "source": [
    "df = pd.read_csv(\"/mapr/administratielast/administratielast_onderzoeker/Laura/Discharge_Documentation_Generator/data/temp/Results.csv\")\n",
    "print('loaded')\n",
    "df = df.dropna(subset=[\"TEXT\"])\n",
    "df[\"TEXT\"] = df[\"TEXT\"].apply(rtf_to_text)\n",
    "\n",
    "df = df[df.specialty_Organization_value.isin([\"PSY\", \"GGZ\"])]\n",
    "\n",
    "display(df)\n"
   ]
  },
  {
   "cell_type": "code",
   "execution_count": null,
   "metadata": {},
   "outputs": [],
   "source": [
    "print(df.SPECIALISM.unique())\n",
    "df = df[df.SPECIALISM.isin([\"GGZ\", \"PSY\"])]\n",
    "\n",
    "display(df)\n"
   ]
  },
  {
   "cell_type": "code",
   "execution_count": null,
   "metadata": {},
   "outputs": [],
   "source": [
    "print(np.sort(df.subcat.unique()))\n",
    "\n",
    "for cat in np.sort(df.subcat.unique()):\n",
    "    print(cat)\n",
    "    temp_df = df[df.subcat == cat]\n",
    "    print(temp_df.TEXT.values[:5])"
   ]
  },
  {
   "cell_type": "code",
   "execution_count": null,
   "metadata": {},
   "outputs": [],
   "source": [
    "# get the subcat_id for the following subcats\n",
    "subcats = [\n",
    "    \"Aangevraagde onderzoeken\"\n",
    "    ,\"Aanvullend onderzoek\"\n",
    "    ,\"Actuele medicatie\"\n",
    "    ,\"Advies\"\n",
    "    ,\"Anamnese\"\n",
    "    ,\"Beleid\"\n",
    "    ,\"Beloop\"\n",
    "    ,\"Conclusie\"\n",
    "    ,\"Correspondentie\"\n",
    "    ,\"Diagnose\"\n",
    "    ,\"Familieanamnese\"\n",
    "    ,\"Functieonderzoeken\"\n",
    "    ,\"Laboratorium\"\n",
    "    ,\"Lichamelijk onderzoek\"\n",
    "    ,\"Medicatie\"\n",
    "    ,\"Microbiologie\"\n",
    "    ,\"Multimedia\"\n",
    "    ,\"Overdracht\"\n",
    "    ,\"Overige acties\"\n",
    "    ,\"Overweging / Differentiaal diagnose\"\n",
    "    ,\"Pathologie\"\n",
    "    ,\"Plan\"\n",
    "    ,\"Radiologie\"\n",
    "    ,\"Reden van komst / Verwijzing\"\n",
    "    ,\"Samenvatting\"\n",
    "    ,\"Sociale anamnese\"\n",
    "    ,\"Uitgevoerde behandeling/verrichting\"\n",
    "    ,\"Vitale functies\"\n",
    "    ,\"Voorgeschiedenis\"\n",
    "]\n",
    "# get the subcat_id for the  subcats\n",
    "subcat_id = df[df.subcat.isin(subcats)][[\"subcat\", \"subcat_id\"]].drop_duplicates()\n",
    "print(subcat_id)"
   ]
  },
  {
   "cell_type": "code",
   "execution_count": null,
   "metadata": {},
   "outputs": [],
   "source": []
  },
  {
   "cell_type": "code",
   "execution_count": null,
   "metadata": {},
   "outputs": [],
   "source": []
  },
  {
   "cell_type": "code",
   "execution_count": null,
   "metadata": {},
   "outputs": [],
   "source": []
  }
 ],
 "metadata": {
  "kernelspec": {
   "display_name": ".venv",
   "language": "python",
   "name": "python3"
  },
  "language_info": {
   "codemirror_mode": {
    "name": "ipython",
    "version": 3
   },
   "file_extension": ".py",
   "mimetype": "text/x-python",
   "name": "python",
   "nbconvert_exporter": "python",
   "pygments_lexer": "ipython3",
   "version": "3.10.13"
  }
 },
 "nbformat": 4,
 "nbformat_minor": 2
}
