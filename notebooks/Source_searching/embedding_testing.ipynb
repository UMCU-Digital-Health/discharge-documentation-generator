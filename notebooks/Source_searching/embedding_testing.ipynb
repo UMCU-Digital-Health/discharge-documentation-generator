{
 "cells": [
  {
   "cell_type": "code",
   "execution_count": null,
   "metadata": {},
   "outputs": [],
   "source": [
    "# imports\n",
    "import ast  # for converting embeddings saved as strings back to arrays\n",
    "import json\n",
    "import os\n",
    "\n",
    "import openai  # for calling the OpenAI API\n",
    "import pandas as pd  # for storing text and embeddings data\n",
    "import streamlit as st\n",
    "import tiktoken  # for counting tokens\n",
    "from dotenv import load_dotenv\n",
    "from scipy import spatial  # for calculating vector similarities for search"
   ]
  },
  {
   "cell_type": "code",
   "execution_count": null,
   "metadata": {},
   "outputs": [],
   "source": [
    "\n",
    "# models\n",
    "EMBEDDING_MODEL = \"text-embedding-ada-002\"\n",
    "load_dotenv()\n",
    "deployment_name = \"model-gpt35\"\n",
    "\n",
    "openai.api_key = os.getenv(\"AZURE_OPENAI_KEY\")\n",
    "openai.api_base = os.getenv(\"AZURE_OPENAI_ENDPOINT\")\n",
    "openai.api_type = \"azure\"\n",
    "openai.api_version = \"2023-05-15\"  # this may change in the future"
   ]
  },
  {
   "cell_type": "code",
   "execution_count": null,
   "metadata": {},
   "outputs": [],
   "source": [
    "patient_dossier_strings = [\"\"\"\n",
    "Dag 1:\n",
    "Respiratie: De patiënt wordt onmiddellijk beademd na de operatie vanwege ernstige ademhalingsproblemen.\n",
    "Cardiologie: Vitale parameters zijn stabiel.\n",
    "Neurologie: De patiënt is verward, vermoedelijk door de anesthesie.\n",
    "Infectie: -\n",
    "\"\"\",\"\"\"\n",
    "Dag 2:\n",
    "Respiratie: Ademhalingsproblemen blijven ernstig, ECMO-ondersteuning wordt gestart.\n",
    "Cardiologie: Stabiele vitale parameters.\n",
    "Neurologie: Verwardheid blijft aanhouden, vermoeden op delier.\n",
    "Infectie: Een stijging van de temperatuur duidt op een mogelijke infectie, antibioticakuur van 10 dagen worden gestart.\n",
    "\"\"\",\"\"\"\n",
    "Dag 3:\n",
    "Respiratie: ECMO-ondersteuning wordt voortgezet.\n",
    "Cardiologie: Stabiele vitale parameters.\n",
    "Neurologie: delier.\n",
    "Infectie: minimale verdere stijging in temp, antibiotica worden voortgezet.\n",
    "\"\"\",\"\"\"\n",
    "Dag 4:\n",
    "Respiratie: Enige verbetering in de ademhaling, patiënt blijft afhankelijk van ECMO.\n",
    "Cardiologie: Cardiovasculaire schommelingen blijven, medicatie wordt aangepast.\n",
    "Neurologie: Verwardheid en delier nemen toe.\n",
    "Infectie: De infectie wordt bevestigd en antibioticakuur wordt voortgezet en slaat aan.\n",
    "\"\"\",\"\"\"\n",
    "Dag 5:\n",
    "Respiratie: ECMO-ondersteuning.\n",
    "Cardiologie: Cardiovasculaire schommelingen blijven, medicatie wordt aangepast.\n",
    "Neurologie: Verwardheid en delier.\n",
    "Infectie: constant, antibioticakuur.\n",
    "\"\"\",\"\"\"\n",
    "Dag 6:\n",
    "Respiratie: ECMO-ondersteuning.\n",
    "Cardiologie: - (Geen significante verandering)\n",
    "Neurologie: Delier verbetert geleidelijk.\n",
    "Infectie: -  constant, antibioticakuur.\n",
    "\"\"\",\"\"\"\n",
    "Dag 7:\n",
    "Respiratie: De patiënt begint van ECMO af te komen, maar blijft ondersteuning nodig hebben.\n",
    "Cardiologie: Vitale parameters stabiliseren met behulp van medicatie.\n",
    "Neurologie: -\n",
    "Infectie:  constant, antibioticakuur.\n",
    "\"\"\",\"\"\"\n",
    "Dag 8:\n",
    "Respiratie: - (Geen significante verandering)\n",
    "Cardiologie: - (Geen significante verandering)\n",
    "Neurologie: geen delier meer\n",
    "Infectie:  constant, antibioticakuur.\n",
    "\"\"\",\"\"\"\n",
    "Dag 9:\n",
    "Respiratie: zuurstof, patient zwak\n",
    "Cardiologie: - (Geen significante verandering)\n",
    "Neurologie: stabiel en helder\n",
    "Infectie:  constant, antibioticakuur.\n",
    "\"\"\",\"\"\"\n",
    "Dag 10:\n",
    "Respiratie: respiratie verbetert geleidelijk, blijft zwak en afhankelijk van zuurstof\n",
    "Cardiologie: Vitale parameters zijn nu stabiel zonder medicatie.\n",
    "Neurologie: -\n",
    "Infectie:  constant, antibioticakuur.\n",
    "\"\"\"]\n",
    "patient_dossier_strings"
   ]
  },
  {
   "cell_type": "code",
   "execution_count": null,
   "metadata": {},
   "outputs": [],
   "source": []
  },
  {
   "cell_type": "code",
   "execution_count": null,
   "metadata": {},
   "outputs": [],
   "source": [
    "response = openai.Embedding.create(\n",
    "    input=patient_dossier_strings,\n",
    "    engine=EMBEDDING_MODEL\n",
    ")\n",
    "embeddings = response['data'][0]['embedding']\n",
    "print(embeddings)"
   ]
  }
 ],
 "metadata": {
  "kernelspec": {
   "display_name": "aiva_ontslag_laura",
   "language": "python",
   "name": "python3"
  },
  "language_info": {
   "codemirror_mode": {
    "name": "ipython",
    "version": 3
   },
   "file_extension": ".py",
   "mimetype": "text/x-python",
   "name": "python",
   "nbconvert_exporter": "python",
   "pygments_lexer": "ipython3",
   "version": "3.8.12"
  }
 },
 "nbformat": 4,
 "nbformat_minor": 2
}
