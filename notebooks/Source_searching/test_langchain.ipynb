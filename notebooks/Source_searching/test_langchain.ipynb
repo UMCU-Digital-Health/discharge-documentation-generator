{
 "cells": [
  {
   "attachments": {},
   "cell_type": "markdown",
   "metadata": {},
   "source": [
    "## Experiment with using GPT and embeddings to detect phenotypes"
   ]
  },
  {
   "cell_type": "code",
   "execution_count": null,
   "metadata": {},
   "outputs": [],
   "source": [
    "import pandas as pd\n",
    "import json\n",
    "\n",
    "from pydantic import BaseModel, Field\n",
    "from langchain.output_parsers import PydanticOutputParser\n",
    "from langchain.prompts import PromptTemplate\n",
    "from langchain.llms import OpenAI\n",
    "from typing import Tuple, List\n",
    "from langchain.embeddings.openai import OpenAIEmbeddings\n",
    "from langchain.vectorstores import FAISS\n",
    "from langchain.document_loaders import DataFrameLoader\n",
    "from dotenv import load_dotenv\n",
    "\n",
    "load_dotenv()"
   ]
  },
  {
   "cell_type": "code",
   "execution_count": null,
   "metadata": {},
   "outputs": [],
   "source": [
    "with open(\"../data/raw/hp.json\", \"r\") as f:\n",
    "    tmp = json.load(f)\n",
    "\n",
    "hpo_codes = [\n",
    "    x for x in tmp[\"graphs\"][0][\"nodes\"] if \"type\" in x.keys() and x[\"type\"] == \"CLASS\"\n",
    "]\n",
    "hpo_codes"
   ]
  },
  {
   "cell_type": "code",
   "execution_count": null,
   "metadata": {},
   "outputs": [],
   "source": [
    "hpo_codes_clean = [\n",
    "    {\n",
    "        \"id\": x.get(\"id\"),\n",
    "        \"label\": x.get(\"lbl\"),\n",
    "        \"definition\": x.get(\"meta\", {\"definition\": {\"val\": \"\"}})\n",
    "        .get(\"definition\", {\"val\": \"\"})\n",
    "        .get(\"val\"),\n",
    "    }\n",
    "    for x in hpo_codes\n",
    "]\n",
    "\n",
    "hpo_total_df = pd.DataFrame(hpo_codes_clean)\n",
    "hpo_total_df[\"content\"] = hpo_total_df[\"label\"] + \": \" + hpo_total_df[\"definition\"]\n",
    "hpo_total_df"
   ]
  },
  {
   "cell_type": "code",
   "execution_count": null,
   "metadata": {},
   "outputs": [],
   "source": [
    "hpo_cdb = pd.read_csv(\"../data/total_cdb.csv\").drop(\n",
    "    columns=[\"name_status\", \"ontologies\"]\n",
    ")\n",
    "# hpo_cdb = hpo_cdb.head(100)\n",
    "hpo_cdb = hpo_cdb.groupby(\"cui\").agg(lambda x: \", \".join(x)).reset_index()\n",
    "hpo_cdb"
   ]
  },
  {
   "cell_type": "code",
   "execution_count": null,
   "metadata": {},
   "outputs": [],
   "source": [
    "loader = DataFrameLoader(hpo_cdb, page_content_column=\"name\")\n",
    "docs = loader.load()\n",
    "docs"
   ]
  },
  {
   "cell_type": "code",
   "execution_count": null,
   "metadata": {},
   "outputs": [],
   "source": [
    "from langchain.embeddings import HuggingFaceEmbeddings\n",
    "\n",
    "embeddings = HuggingFaceEmbeddings(model_name=\"xlm-roberta-base\")\n",
    "db = FAISS.from_documents(docs, embeddings)"
   ]
  },
  {
   "cell_type": "code",
   "execution_count": null,
   "metadata": {},
   "outputs": [],
   "source": [
    "query = \"patient heeft last van een afwijking aan de blaas\"\n",
    "docs = db.similarity_search(query)\n",
    "docs"
   ]
  },
  {
   "cell_type": "code",
   "execution_count": null,
   "metadata": {},
   "outputs": [],
   "source": [
    "db.save_local(\"faiss_index_dutch_hpo\")"
   ]
  },
  {
   "cell_type": "code",
   "execution_count": null,
   "metadata": {},
   "outputs": [],
   "source": [
    "from langchain.llms import AzureOpenAI\n",
    "import os\n",
    "\n",
    "\n",
    "class HPOTableEntry(BaseModel):\n",
    "    term_in_text: str = Field(\n",
    "        description=\"De term in de tekst die het fenotype beschrijft, bijvoorbeeld: neuropathische blaas\"\n",
    "    )\n",
    "    description_fenotype: str = Field(\n",
    "        description=\"Een beschrijving van het gevonden fenotype, bijvoorbeeld: Blaas die niet goed werkt door beschadiging van een gedeelte van het zenuwstelsel.\"\n",
    "    )\n",
    "    present_in_text: bool = Field(\n",
    "        description=\"Is het fenotype aanwezig of niet, bijvoorbeeld: aanwezig of afwezig\"\n",
    "    )\n",
    "    family_relation: str = Field(\n",
    "        description=\"Bij wie is het fenotype geconstateerd, bijvoorbeeld: patiënt, vader of moeder\"\n",
    "    )\n",
    "\n",
    "\n",
    "class HPOTable(BaseModel):\n",
    "    entries: List[HPOTableEntry] = Field(\n",
    "        description=\"Een fenotype gevonden in de tekst\"\n",
    "    )\n",
    "\n",
    "\n",
    "# dossier_query = \"Patiënt is langer dan normaal en bij nader onderzoek lijkt er sprake te zijn van een afwijking aan de blaas. De moeder van de patiënt heeft een vergrootte baarmoeder. De patient heeft geen AD overerving\"\n",
    "dossier_query = \"\"\"Een 47-jarige man met een blanco voorgeschiedenis kwam op de polikliniek Dermatologie vanwege erytheem van het gehele rechter been. Het erytheem was al jaren aanwezig en breidde zich langzaam uit van distaal naar proximaal. De patiënt ervoer geen klachten van het aangedane been. Hij had een kantoorbaan en in zijn vrije tijd maakte hij boswandelingen. Hij gebruikte geen insectenwerende middelen en hij kon zich geen tekenbeet herinneren.\n",
    "\n",
    "Bij lichamelijk onderzoek was een erytheem van het rechter been zichtbaar, zij het erg subtiel. De kleur verschilde met het linker been en er was sprake van een lichte atrofie van de huid rond het enkelgewricht (figuur). Duplexonderzoek liet geen veneuze insufficiëntie zien. Bij serologisch onderzoek was de IgG-antistoftiter tegen Borrelia burgdorferi positief en de IgM-antistoftiter negatief. Hierop stelden wij de diagnose ‘acrodermatitis chronica atroficans’ (ACA).\n",
    "\n",
    "ACA is een cutane manifestatie van chronische lymeziekte. Unilateraal erytheem of oedeem van een arm of been kan de enige aanwijzing zijn voor ACA. Het wordt vaak ten onrechte aangezien voor veneuze insufficiëntie of lymfoedeem. Bij ACA breidt het erytheem zich uit en gaat het oedeem op den duur over in atrofie. Deze casus laat zien dat het klinische beeld erg subtiel kan zijn.\n",
    "\n",
    "De patiënt werd volgens het protocol voor chronische lymeziekte behandeld met doxycycline 100 mg 2 dd gedurende 30 dagen. Bij de controle na zes weken was het erytheem aanzienlijk afgenomen qua omvang en kleur.\"\"\"\n",
    "# template = r\"Extract medical phenotypes from the following patient file. The patient file is in Dutch. Answer in Dutch.\\n{format_instructions}\\nPatient file: {query}\"\n",
    "template = r\"\"\"Haal medische fenotypes uit het volgende patiëntdossier.\n",
    "    Bijvoorbeeld: Patiënt heeft last van hoofdpijn en prostatitis, maar niet van buikpijn. Zijn moeder heeft een afwijking aan de lichaamslengte\n",
    "    Dan is het antwoord:\n",
    "    hoofdpijn, pijn aan het hoofd, aanwezig, patiënt\n",
    "    prostatitis, een ontsteking aan de prostaat, aanwezig, patiënt\n",
    "    buikpijn, pijn aan de buik, afwezig, patiënt\n",
    "    afwijking van lichaamslengte, afwijkende lichaamslengte vergeleken met de norm, aanwezig, moeder\n",
    "\n",
    "    {format_instructions}\n",
    "\n",
    "    Patiëntdossier: {query}\"\"\"\n",
    "\n",
    "parser = PydanticOutputParser(pydantic_object=HPOTable)\n",
    "\n",
    "model = AzureOpenAI(\n",
    "    temperature=0, deployment_name=os.getenv(\"DEPLOYMENT_NAME\"), engine=\"model-gpt35\"\n",
    ")\n",
    "\n",
    "prompt = PromptTemplate(\n",
    "    template=template,\n",
    "    input_variables=[\"query\"],\n",
    "    partial_variables={\"format_instructions\": parser.get_format_instructions()},\n",
    ")\n",
    "\n",
    "_input = prompt.format_prompt(query=dossier_query)\n",
    "\n",
    "output = model(_input.to_string())"
   ]
  },
  {
   "cell_type": "code",
   "execution_count": null,
   "metadata": {},
   "outputs": [],
   "source": [
    "parser.get_format_instructions()"
   ]
  },
  {
   "cell_type": "code",
   "execution_count": null,
   "metadata": {},
   "outputs": [],
   "source": [
    "output"
   ]
  },
  {
   "cell_type": "code",
   "execution_count": null,
   "metadata": {},
   "outputs": [],
   "source": [
    "chat_output = parser.parse(output).dict()\n",
    "chat_output"
   ]
  },
  {
   "cell_type": "code",
   "execution_count": null,
   "metadata": {},
   "outputs": [],
   "source": [
    "embeddings = OpenAIEmbeddings()\n",
    "\n",
    "db = FAISS.load_local(\"faiss_index_dutch_hpo\", embeddings)\n",
    "tmp = db.similarity_search_with_relevance_scores(\n",
    "    \", \".join(\n",
    "        [\n",
    "            chat_output[\"entries\"][0][\"term_in_text\"],\n",
    "            chat_output[\"entries\"][0][\"description_fenotype\"],\n",
    "        ]\n",
    "    ),\n",
    "    k=1,\n",
    ")"
   ]
  },
  {
   "cell_type": "code",
   "execution_count": null,
   "metadata": {},
   "outputs": [],
   "source": [
    "db.similarity_search_with_relevance_scores(\n",
    "    \", \".join(\n",
    "        [\n",
    "            chat_output[\"entries\"][1][\"term_in_text\"],\n",
    "            #        chat_output[\"entries\"][1][\"description_fenotype\"],\n",
    "        ]\n",
    "    )\n",
    ")"
   ]
  },
  {
   "cell_type": "code",
   "execution_count": null,
   "metadata": {},
   "outputs": [],
   "source": [
    "db.similarity_search_with_relevance_scores(\n",
    "    \", \".join(\n",
    "        [\n",
    "            chat_output[\"entries\"][2][\"term_in_text\"],\n",
    "            chat_output[\"entries\"][2][\"description_fenotype\"],\n",
    "        ]\n",
    "    )\n",
    ")"
   ]
  },
  {
   "cell_type": "code",
   "execution_count": null,
   "metadata": {},
   "outputs": [],
   "source": [
    "db.similarity_search_with_relevance_scores(\n",
    "    \", \".join(\n",
    "        [\n",
    "            chat_output[\"entries\"][3][\"term_in_text\"],\n",
    "            chat_output[\"entries\"][3][\"description_fenotype\"],\n",
    "        ]\n",
    "    )\n",
    ")"
   ]
  },
  {
   "cell_type": "code",
   "execution_count": null,
   "metadata": {},
   "outputs": [],
   "source": [
    "db.similarity_search_with_relevance_scores(\n",
    "    \", \".join(\n",
    "        [\n",
    "            chat_output[\"entries\"][4][\"term_in_text\"],\n",
    "            chat_output[\"entries\"][4][\"description_fenotype\"],\n",
    "        ]\n",
    "    )\n",
    ")"
   ]
  },
  {
   "cell_type": "code",
   "execution_count": null,
   "metadata": {},
   "outputs": [],
   "source": [
    "db.similarity_search_with_relevance_scores(\n",
    "    \", \".join(\n",
    "        [\n",
    "            chat_output[\"entries\"][5][\"term_in_text\"],\n",
    "            chat_output[\"entries\"][5][\"description_fenotype\"],\n",
    "        ]\n",
    "    )\n",
    ")"
   ]
  },
  {
   "cell_type": "code",
   "execution_count": null,
   "metadata": {},
   "outputs": [],
   "source": [
    "db.similarity_search_with_relevance_scores(\n",
    "    \"afwijkende lichaamslengte, gegeven de leeftijd wordt een langere lengte verwacht\"\n",
    ")"
   ]
  }
 ],
 "metadata": {
  "kernelspec": {
   "display_name": ".venv",
   "language": "python",
   "name": "python3"
  },
  "language_info": {
   "codemirror_mode": {
    "name": "ipython",
    "version": 3
   },
   "file_extension": ".py",
   "mimetype": "text/x-python",
   "name": "python",
   "nbconvert_exporter": "python",
   "pygments_lexer": "ipython3",
   "version": "3.8.12"
  }
 },
 "nbformat": 4,
 "nbformat_minor": 2
}
