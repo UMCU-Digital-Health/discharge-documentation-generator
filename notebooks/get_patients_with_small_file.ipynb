{
 "cells": [
  {
   "cell_type": "code",
   "execution_count": null,
   "metadata": {},
   "outputs": [],
   "source": [
    "import os\n",
    "from pathlib import Path\n",
    "\n",
    "import pandas as pd\n",
    "import tiktoken\n",
    "\n",
    "os.environ[\"TIKTOKEN_CACHE_DIR\"] = \"\""
   ]
  },
  {
   "cell_type": "code",
   "execution_count": null,
   "metadata": {},
   "outputs": [],
   "source": [
    "# load data\n",
    "# df = pd.read_parquet(\n",
    "#     Path().cwd().parent / \"data\" / \"processed\" / \"metavision_new_data.parquet\"\n",
    "# )\n",
    "\n",
    "\n",
    "df = pd.read_parquet(\n",
    "    Path().cwd().parent / \"data\" / \"processed\" / \"HiX_data.parquet\"\n",
    ")\n",
    "\n",
    "\n",
    "display(df)"
   ]
  },
  {
   "cell_type": "code",
   "execution_count": null,
   "metadata": {},
   "outputs": [],
   "source": [
    "encoding = tiktoken.get_encoding(\"cl100k_base\")\n",
    "encs = []\n",
    "for enc_id in df[\"enc_id\"].unique():\n",
    "    dep = df[df[\"enc_id\"] == enc_id].department.unique()\n",
    "    patient_data_string = \" \".join(df[df[\"enc_id\"] == enc_id][\"value\"])\n",
    "    if len(encoding.encode(patient_data_string)) < 16000:\n",
    "        print(\n",
    "            f\"The number of tokens in encounter {enc_id}: {len(encoding.encode(patient_data_string))}\"\n",
    "        )\n",
    "        encs.append(enc_id)"
   ]
  }
 ],
 "metadata": {
  "kernelspec": {
   "display_name": "aiva_ontslag_laura",
   "language": "python",
   "name": "python3"
  },
  "language_info": {
   "codemirror_mode": {
    "name": "ipython",
    "version": 3
   },
   "file_extension": ".py",
   "mimetype": "text/x-python",
   "name": "python",
   "nbconvert_exporter": "python",
   "pygments_lexer": "ipython3",
   "version": "3.10.13"
  }
 },
 "nbformat": 4,
 "nbformat_minor": 2
}
