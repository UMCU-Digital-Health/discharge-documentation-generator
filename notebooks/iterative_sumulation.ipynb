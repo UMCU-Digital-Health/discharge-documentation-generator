{
 "cells": [
  {
   "cell_type": "markdown",
   "metadata": {},
   "source": [
    "# Iterative simulation of generating discharge documentation\n",
    "\n",
    "This notebook simulates the performance of iteratively (daily) generating a new discharge document based on the document from yesterday and the daily status of today"
   ]
  },
  {
   "cell_type": "code",
   "execution_count": null,
   "metadata": {},
   "outputs": [],
   "source": [
    "import logging\n",
    "import os\n",
    "from pathlib import Path\n",
    "\n",
    "import pandas as pd\n",
    "from dotenv import load_dotenv\n",
    "from openai import AzureOpenAI\n",
    "\n",
    "from discharge_docs.prompts.prompt import (\n",
    "    load_prompts,\n",
    "    load_template_prompt,\n",
    ")\n",
    "from discharge_docs.prompts.prompt_builder import PromptBuilder"
   ]
  },
  {
   "cell_type": "code",
   "execution_count": null,
   "metadata": {},
   "outputs": [],
   "source": [
    "# initialise Azure\n",
    "load_dotenv(\"../.env\")\n",
    "deployment_name = \"aiva-gpt\"\n",
    "TEMPERATURE = 0.2\n",
    "\n",
    "client = AzureOpenAI(\n",
    "    api_version=\"2024-02-01\",\n",
    "    api_key=os.getenv(\"AZURE_OPENAI_KEY\"),\n",
    "    azure_endpoint=os.getenv(\"AZURE_OPENAI_ENDPOINT\", \"\"),\n",
    ")"
   ]
  },
  {
   "cell_type": "code",
   "execution_count": null,
   "metadata": {},
   "outputs": [],
   "source": [
    "logging.basicConfig(level=logging.INFO)"
   ]
  },
  {
   "cell_type": "markdown",
   "metadata": {},
   "source": [
    "## Load data"
   ]
  },
  {
   "cell_type": "code",
   "execution_count": null,
   "metadata": {},
   "outputs": [],
   "source": [
    "df_metavision = pd.read_parquet(\n",
    "    Path().cwd().parent / \"data\" / \"processed\" / \"metavision_new_data.parquet\"\n",
    ")\n",
    "patient_1_NICU = df_metavision[df_metavision[\"enc_id\"] == 107]\n",
    "patient_1_IC = df_metavision[df_metavision[\"enc_id\"] == 48]\n",
    "\n",
    "df_HIX = pd.read_parquet(\n",
    "    Path().cwd().parent / \"data\" / \"processed\" / \"HiX_data.parquet\"\n",
    ")\n",
    "patient_1_CAR = df_HIX[df_HIX[\"enc_id\"] == 1012]"
   ]
  },
  {
   "cell_type": "markdown",
   "metadata": {},
   "source": [
    "## Simulate patient from NICU"
   ]
  },
  {
   "cell_type": "code",
   "execution_count": null,
   "metadata": {},
   "outputs": [],
   "source": [
    "user_prompt, system_prompt = load_prompts(iterative=True)\n",
    "template_prompt = load_template_prompt(\"NICU\")"
   ]
  },
  {
   "cell_type": "code",
   "execution_count": null,
   "metadata": {},
   "outputs": [],
   "source": [
    "print(system_prompt)"
   ]
  },
  {
   "cell_type": "code",
   "execution_count": null,
   "metadata": {},
   "outputs": [],
   "source": [
    "print(user_prompt)"
   ]
  },
  {
   "cell_type": "code",
   "execution_count": null,
   "metadata": {},
   "outputs": [],
   "source": [
    "print(template_prompt)"
   ]
  },
  {
   "cell_type": "code",
   "execution_count": null,
   "metadata": {},
   "outputs": [],
   "source": [
    "prompt_builder = PromptBuilder(\n",
    "    temperature=TEMPERATURE,\n",
    "    deployment_name=deployment_name,\n",
    "    client=client,\n",
    ")"
   ]
  },
  {
   "cell_type": "code",
   "execution_count": null,
   "metadata": {},
   "outputs": [],
   "source": [
    "discharge_letters = prompt_builder.iterative_simulation(\n",
    "    patient_1_NICU, system_prompt, user_prompt, template_prompt\n",
    ")"
   ]
  },
  {
   "cell_type": "code",
   "execution_count": null,
   "metadata": {},
   "outputs": [],
   "source": [
    "discharge_letters[4]"
   ]
  },
  {
   "cell_type": "code",
   "execution_count": null,
   "metadata": {},
   "outputs": [],
   "source": [
    "from pprint import pprint\n",
    "\n",
    "pprint(discharge_letters[-1])"
   ]
  },
  {
   "cell_type": "code",
   "execution_count": null,
   "metadata": {},
   "outputs": [],
   "source": [
    "print(\n",
    "    patient_1_NICU.loc[\n",
    "        patient_1_NICU[\"description\"].str.contains(\"ontslagbrief\"), \"value\"\n",
    "    ].values[-1]\n",
    ")"
   ]
  },
  {
   "cell_type": "markdown",
   "metadata": {},
   "source": [
    "## Simulate patient from IC"
   ]
  },
  {
   "cell_type": "code",
   "execution_count": null,
   "metadata": {},
   "outputs": [],
   "source": [
    "template_prompt = load_template_prompt(\"IC\")"
   ]
  },
  {
   "cell_type": "code",
   "execution_count": null,
   "metadata": {},
   "outputs": [],
   "source": [
    "discharge_letters = prompt_builder.iterative_simulation(\n",
    "    patient_1_IC, system_prompt, user_prompt, template_prompt\n",
    ")"
   ]
  },
  {
   "cell_type": "code",
   "execution_count": null,
   "metadata": {},
   "outputs": [],
   "source": [
    "pprint(discharge_letters[-1])"
   ]
  },
  {
   "cell_type": "code",
   "execution_count": null,
   "metadata": {},
   "outputs": [],
   "source": [
    "pprint(\n",
    "    patient_1_IC.loc[\n",
    "        patient_1_IC[\"description\"].str.contains(\"ontslagbrief\"), \"value\"\n",
    "    ].values[-1]\n",
    ")"
   ]
  },
  {
   "cell_type": "markdown",
   "metadata": {},
   "source": [
    "## Simulatie Cardio"
   ]
  },
  {
   "cell_type": "code",
   "execution_count": null,
   "metadata": {},
   "outputs": [],
   "source": [
    "template_prompt = load_template_prompt(\"CAR\")"
   ]
  },
  {
   "cell_type": "code",
   "execution_count": null,
   "metadata": {},
   "outputs": [],
   "source": [
    "discharge_letters = prompt_builder.iterative_simulation(\n",
    "    patient_1_CAR, system_prompt, user_prompt, template_prompt\n",
    ")"
   ]
  },
  {
   "cell_type": "code",
   "execution_count": null,
   "metadata": {},
   "outputs": [],
   "source": [
    "pprint(discharge_letters[-1])"
   ]
  },
  {
   "cell_type": "code",
   "execution_count": null,
   "metadata": {},
   "outputs": [],
   "source": [
    "pprint(\n",
    "    patient_1_CAR.loc[\n",
    "        patient_1_CAR[\"description\"].str.contains(\"Ontslagbrief\"), \"value\"\n",
    "    ].values[-1]\n",
    ")"
   ]
  }
 ],
 "metadata": {
  "kernelspec": {
   "display_name": "discharge_documentation_env",
   "language": "python",
   "name": "python3"
  },
  "language_info": {
   "codemirror_mode": {
    "name": "ipython",
    "version": 3
   },
   "file_extension": ".py",
   "mimetype": "text/x-python",
   "name": "python",
   "nbconvert_exporter": "python",
   "pygments_lexer": "ipython3",
   "version": "3.11.7"
  }
 },
 "nbformat": 4,
 "nbformat_minor": 2
}
