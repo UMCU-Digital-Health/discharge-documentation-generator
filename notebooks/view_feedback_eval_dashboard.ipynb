{
 "cells": [
  {
   "cell_type": "code",
   "execution_count": null,
   "metadata": {},
   "outputs": [],
   "source": [
    "from pathlib import Path\n",
    "\n",
    "import pandas as pd\n",
    "\n",
    "%load_ext autoreload\n",
    "%autoreload 2"
   ]
  },
  {
   "cell_type": "code",
   "execution_count": null,
   "metadata": {},
   "outputs": [],
   "source": [
    "eval_df = pd.read_csv(Path.cwd().parent / \"data\" / \"feedback\" / \"evaluation.csv\")\n",
    "# rename user_prompt_id to id and id to id_temp\n",
    "eval_df = eval_df.rename(columns={\"user_prompt_id\": \"id\", \"id\": \"id_temp\"})\n",
    "output_df = pd.read_csv(Path.cwd().parent / \"data\" / \"feedback\" / \"output.csv\")\n",
    "session_df = pd.read_csv(Path.cwd().parent / \"data\" / \"feedback\" / \"session.csv\")\n",
    "prompt_df = pd.read_csv(Path.cwd().parent / \"data\" / \"feedback\" / \"user_prompt.csv\")\n",
    "display(eval_df)\n",
    "display(output_df)\n",
    "display(session_df)\n",
    "display(prompt_df)"
   ]
  },
  {
   "cell_type": "code",
   "execution_count": null,
   "metadata": {},
   "outputs": [],
   "source": [
    "merged_df = pd.merge(session_df, prompt_df, on=\"id\")\n",
    "\n",
    "merged_df = pd.merge(\n",
    "    merged_df,\n",
    "    eval_df,\n",
    "    on=\"id\",\n",
    ")\n",
    "merged_df = pd.merge(\n",
    "    merged_df,\n",
    "    output_df,\n",
    "    on=\"id\",\n",
    ")\n",
    "\n",
    "selected_columns = [\n",
    "    \"user\",\n",
    "    \"groups\",\n",
    "    \"timestamp\",\n",
    "    \"version\",\n",
    "    \"prompt\",\n",
    "    \"patient\",\n",
    "    \"evaluation_metric\",\n",
    "    \"evaluation_value\",\n",
    "    \"gpt_output_value\",\n",
    "]\n",
    "result_df = merged_df[selected_columns]\n",
    "\n",
    "dash_total_df_pivoted = result_df.pivot_table(\n",
    "    index=[\n",
    "        \"user\",\n",
    "        \"groups\",\n",
    "        \"timestamp\",\n",
    "        \"version\",\n",
    "        \"prompt\",\n",
    "        \"patient\",\n",
    "        \"gpt_output_value\",\n",
    "    ],\n",
    "    columns=\"evaluation_metric\",\n",
    "    values=\"evaluation_value\",\n",
    "    aggfunc=\"first\",\n",
    ").reset_index()"
   ]
  },
  {
   "cell_type": "code",
   "execution_count": null,
   "metadata": {},
   "outputs": [],
   "source": [
    "dash_total_df_pivoted"
   ]
  },
  {
   "cell_type": "code",
   "execution_count": null,
   "metadata": {},
   "outputs": [],
   "source": []
  }
 ],
 "metadata": {
  "kernelspec": {
   "display_name": ".venv",
   "language": "python",
   "name": "python3"
  },
  "language_info": {
   "codemirror_mode": {
    "name": "ipython",
    "version": 3
   },
   "file_extension": ".py",
   "mimetype": "text/x-python",
   "name": "python",
   "nbconvert_exporter": "python",
   "pygments_lexer": "ipython3",
   "version": "3.10.13"
  }
 },
 "nbformat": 4,
 "nbformat_minor": 2
}
