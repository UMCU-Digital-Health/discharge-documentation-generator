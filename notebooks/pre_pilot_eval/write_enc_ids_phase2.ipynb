{
 "cells": [
  {
   "cell_type": "markdown",
   "metadata": {},
   "source": [
    "# Notebook to change the ids used in Phase 1 of the evaluation and rewrite them for phase 2"
   ]
  },
  {
   "cell_type": "code",
   "execution_count": null,
   "metadata": {},
   "outputs": [],
   "source": [
    "from pathlib import Path\n",
    "\n",
    "import tomli\n",
    "import tomli_w"
   ]
  },
  {
   "cell_type": "code",
   "execution_count": null,
   "metadata": {},
   "outputs": [],
   "source": [
    "with open(\n",
    "    Path(\"../../src/discharge_docs/dashboard/enc_ids_pre_release_phase1_1.toml\"), \"rb\"\n",
    ") as f:\n",
    "    data = tomli.load(f)\n",
    "\n",
    "student_1_data = [\n",
    "    (department, enc_id)\n",
    "    for enc_id, department in zip(\n",
    "        data[\"student_1\"][\"ids\"], data[\"student_1\"][\"department\"], strict=True\n",
    "    )\n",
    "]\n",
    "student_2_data = [\n",
    "    (department, enc_id)\n",
    "    for enc_id, department in zip(\n",
    "        data[\"student_2\"][\"ids\"], data[\"student_2\"][\"department\"], strict=True\n",
    "    )\n",
    "]\n",
    "\n",
    "total_data = student_1_data + student_2_data\n",
    "\n",
    "phase2_encs = {}\n",
    "for department, enc_id in total_data:\n",
    "    if phase2_encs.get(department):\n",
    "        phase2_encs[department].add(enc_id)\n",
    "    else:\n",
    "        phase2_encs[department] = {enc_id}\n",
    "\n",
    "\n",
    "phase2_encs = {k: {\"ids\": list(v)} for k, v in phase2_encs.items()}\n",
    "phase2_encs"
   ]
  },
  {
   "cell_type": "markdown",
   "metadata": {},
   "source": [
    "# Manually add some enc id's from a previous period\n",
    "Namely 302 (NICU), 332 (IC), 361 (NICU), 11 (IC), 40 (NICU)"
   ]
  },
  {
   "cell_type": "code",
   "execution_count": null,
   "metadata": {},
   "outputs": [],
   "source": [
    "phase2_encs[\"NICU\"][\"ids\"] += [302, 361, 40]\n",
    "phase2_encs[\"IC\"][\"ids\"] += [332, 11]"
   ]
  },
  {
   "cell_type": "code",
   "execution_count": null,
   "metadata": {},
   "outputs": [],
   "source": [
    "with open(\n",
    "    Path(\"../../src/discharge_docs/dashboard/enc_ids_pre_release_phase2.toml\"), \"wb\"\n",
    ") as f:\n",
    "    tomli_w.dump(phase2_encs, f)"
   ]
  }
 ],
 "metadata": {
  "kernelspec": {
   "display_name": ".venv",
   "language": "python",
   "name": "python3"
  },
  "language_info": {
   "codemirror_mode": {
    "name": "ipython",
    "version": 3
   },
   "file_extension": ".py",
   "mimetype": "text/x-python",
   "name": "python",
   "nbconvert_exporter": "python",
   "pygments_lexer": "ipython3",
   "version": "3.10.13"
  }
 },
 "nbformat": 4,
 "nbformat_minor": 2
}
