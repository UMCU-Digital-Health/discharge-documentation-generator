{
 "cells": [
  {
   "cell_type": "code",
   "execution_count": null,
   "metadata": {},
   "outputs": [],
   "source": [
    "import pandas as pd\n",
    "import numpy as np\n",
    "from IPython.display import display, HTML\n",
    "from pathlib import Path\n",
    "import tomli\n",
    "\n",
    "CSS = \"\"\"\n",
    ".output {\n",
    "    flex-direction: row;\n",
    "}\n",
    "\"\"\"\n",
    "\n",
    "HTML(\"<style>{}</style>\".format(CSS))"
   ]
  },
  {
   "cell_type": "code",
   "execution_count": null,
   "metadata": {},
   "outputs": [],
   "source": [
    "# get current path location with pathlib\n",
    "markings_location = (\n",
    "    Path().resolve().parent / \"data\" / \"processed\" / \"Evaluatie markings week 1.csv\"\n",
    ")\n",
    "\n",
    "# Read dataframe. Remove annotations that were marked as 'test' or not done by annotators.\n",
    "annotatie_data = pd.read_csv(markings_location)  # Load data\n",
    "annotatie_data = annotatie_data.loc[\n",
    "    ~(annotatie_data.comments == \"test\") & ~(annotatie_data.comments == \"final test\")\n",
    "]"
   ]
  },
  {
   "cell_type": "code",
   "execution_count": null,
   "metadata": {},
   "outputs": [],
   "source": [
    "# load used enc_ids\n",
    "with open(Path().resolve() / \"analysis_config.toml\", \"rb\") as f:\n",
    "    conf_dict = tomli.load(f)"
   ]
  },
  {
   "cell_type": "code",
   "execution_count": null,
   "metadata": {},
   "outputs": [],
   "source": [
    "test_users = []\n",
    "\n",
    "for key, value in conf_dict[\"test_users\"].items():\n",
    "    test_users.append(value[\"email\"])\n",
    "\n",
    "test_users.append(\"No user\")"
   ]
  },
  {
   "cell_type": "code",
   "execution_count": null,
   "metadata": {},
   "outputs": [],
   "source": [
    "annotatie_data = annotatie_data.loc[~annotatie_data.user.isin(test_users)]"
   ]
  },
  {
   "cell_type": "code",
   "execution_count": null,
   "metadata": {},
   "outputs": [],
   "source": [
    "student_1 = list(conf_dict[\"students\"].keys())[0]\n",
    "student_1_mail = conf_dict[\"students\"][student_1][\"email\"]\n",
    "student_2 = list(conf_dict[\"students\"].keys())[1]\n",
    "student_2_mail = conf_dict[\"students\"][student_2][\"email\"]"
   ]
  },
  {
   "cell_type": "markdown",
   "metadata": {},
   "source": [
    "### Wat eerste observaties:\n",
    "- Soms toch overlappende observaties: GPT patient 1 nicu voor Anna en ORG patient 1 IC voor Zoe."
   ]
  },
  {
   "cell_type": "code",
   "execution_count": null,
   "metadata": {},
   "outputs": [],
   "source": [
    "pd.options.display.max_colwidth = 50\n",
    "annotatie_data.sort_values([\"patientid\", \"user\"])"
   ]
  },
  {
   "cell_type": "markdown",
   "metadata": {},
   "source": [
    "## some statistics for our fantastic annotators"
   ]
  },
  {
   "cell_type": "code",
   "execution_count": null,
   "metadata": {},
   "outputs": [],
   "source": [
    "# Function for getting overview of omissions/hallucinations.\n",
    "def get_annotation_table(\n",
    "    data,\n",
    "    patient_id,\n",
    "    annotator,\n",
    "    letter_type=[\"ORG letter\", \"GPT letter\"],\n",
    "    evaluation_type=[\n",
    "        \"highlighted_missings\",\n",
    "        \"highlighted_halucinations\",\n",
    "        \"highlighted_trivial_information\",\n",
    "    ],\n",
    "):\n",
    "    annotator_name = list(annotator.keys())[0]\n",
    "    annotator_email = annotator[annotator_name]\n",
    "    patient_data = data.loc[\n",
    "        (data.patientid == patient_id) & (data.letter_evaluated == letter_type)\n",
    "    ]\n",
    "    highlights_str = patient_data.loc[\n",
    "        patient_data.user == annotator_email, evaluation_type\n",
    "    ].iloc[0]\n",
    "    # for ch in [\"'\",'[',']']: highlights_str = highlights_str.replace(ch,'')\n",
    "    # highlights_list = highlights_str.split(',')\n",
    "    # for i,str in enumerate(highlights_list): highlights_list[i] = str.strip()\n",
    "    highlights_list = get_annotation_list(highlights_str)\n",
    "    highlights_df = pd.DataFrame(\n",
    "        {annotator_name: highlights_list}\n",
    "    ).style.set_properties(**{\"text-align\": \"left\"})\n",
    "    return highlights_df.set_table_styles(\n",
    "        [dict(selector=\"th\", props=[(\"text-align\", \"left\")])]\n",
    "    )\n",
    "\n",
    "\n",
    "def get_annotation_list(string):\n",
    "    for ch in [\"'\", \"[\", \"]\"]:\n",
    "        string = string.replace(ch, \"\")\n",
    "    highlights_list = string.split(\",\")\n",
    "    for i, str in enumerate(highlights_list):\n",
    "        highlights_list[i] = str.strip()\n",
    "    return highlights_list\n",
    "\n",
    "\n",
    "pd.options.display.max_colwidth = 10000"
   ]
  },
  {
   "cell_type": "code",
   "execution_count": null,
   "metadata": {},
   "outputs": [],
   "source": [
    "data_om_A = annotatie_data.loc[\n",
    "    annotatie_data.user == student_1_mail, \"highlighted_missings\"\n",
    "].map(lambda string: len(get_annotation_list(string)))\n",
    "data_om_Z = annotatie_data.loc[\n",
    "    annotatie_data.user == student_2_mail, \"highlighted_missings\"\n",
    "].map(lambda string: len(get_annotation_list(string)))\n",
    "data_hal_A = annotatie_data.loc[\n",
    "    annotatie_data.user == student_1_mail, \"highlighted_halucinations\"\n",
    "].map(lambda string: len(get_annotation_list(string)))\n",
    "data_hal_Z = annotatie_data.loc[\n",
    "    annotatie_data.user == student_2_mail, \"highlighted_halucinations\"\n",
    "].map(lambda string: len(get_annotation_list(string)))\n",
    "data_triv_A = annotatie_data.loc[\n",
    "    annotatie_data.user == student_1_mail,\n",
    "    \"highlighted_trivial_information\",\n",
    "].map(lambda string: len(get_annotation_list(string)))\n",
    "data_triv_Z = annotatie_data.loc[\n",
    "    annotatie_data.user == student_2_mail,\n",
    "    \"highlighted_trivial_information\",\n",
    "].map(lambda string: len(get_annotation_list(string)))\n",
    "stats = pd.DataFrame(\n",
    "    {\n",
    "        \"mean omission\": [data_om_A.mean(), data_om_Z.mean()],\n",
    "        \"median omission\": [data_hal_A.median(), data_hal_Z.median()],\n",
    "        \"mean hallucination\": [data_hal_A.mean(), data_hal_Z.mean()],\n",
    "        \"median hallucination\": [data_hal_A.median(), data_hal_Z.median()],\n",
    "        \"mean trivial facts\": [data_triv_A.mean(), data_triv_Z.mean()],\n",
    "        \"median trivial facts\": [data_triv_A.median(), data_triv_Z.median()],\n",
    "    }\n",
    ")\n",
    "stats = stats.transpose()\n",
    "stats.columns = [\"Anna\", \"Zoë\"]\n",
    "display(stats)"
   ]
  },
  {
   "cell_type": "code",
   "execution_count": null,
   "metadata": {},
   "outputs": [],
   "source": [
    "display(\n",
    "    annotatie_data.loc[\n",
    "        annotatie_data.user == student_1_mail, \"highlighted_missings\"\n",
    "    ].map(lambda string: len(get_annotation_list(string)))\n",
    ")\n",
    "display(\n",
    "    annotatie_data.loc[\n",
    "        annotatie_data.user == student_2_mail, \"highlighted_missings\"\n",
    "    ].map(lambda string: len(get_annotation_list(string)))\n",
    ")"
   ]
  },
  {
   "cell_type": "markdown",
   "metadata": {},
   "source": [
    "## ORIGINAL PATIENT 2 NICU LETTER "
   ]
  },
  {
   "cell_type": "code",
   "execution_count": null,
   "metadata": {},
   "outputs": [],
   "source": [
    "# Get omissions NICU patient 2 original patient letter\n",
    "A_omission = get_annotation_table(\n",
    "    data=annotatie_data,\n",
    "    patient_id=\"patient_2_nicu\",\n",
    "    annotator={\"Anna\": student_1_mail},\n",
    "    letter_type=\"ORG letter\",\n",
    "    evaluation_type=\"highlighted_missings\",\n",
    ")\n",
    "Z_omission = get_annotation_table(\n",
    "    data=annotatie_data,\n",
    "    patient_id=\"patient_2_nicu\",\n",
    "    annotator={\"Zoë\": student_2_mail},\n",
    "    letter_type=\"ORG letter\",\n",
    "    evaluation_type=\"highlighted_missings\",\n",
    ")\n",
    "\n",
    "display(A_omission)\n",
    "display(Z_omission)"
   ]
  },
  {
   "cell_type": "code",
   "execution_count": null,
   "metadata": {},
   "outputs": [],
   "source": [
    "# Get hallucinations NICU patient 2 original patient letter\n",
    "A_hallucination = get_annotation_table(\n",
    "    data=annotatie_data,\n",
    "    patient_id=\"patient_2_nicu\",\n",
    "    annotator={\"Anna\": student_1_mail},\n",
    "    letter_type=\"ORG letter\",\n",
    "    evaluation_type=\"highlighted_halucinations\",\n",
    ")\n",
    "Z_hallucination = get_annotation_table(\n",
    "    data=annotatie_data,\n",
    "    patient_id=\"patient_2_nicu\",\n",
    "    annotator={\"Zoë\": student_2_mail},\n",
    "    letter_type=\"ORG letter\",\n",
    "    evaluation_type=\"highlighted_halucinations\",\n",
    ")\n",
    "\n",
    "display(A_hallucination)\n",
    "display(Z_hallucination)"
   ]
  },
  {
   "cell_type": "code",
   "execution_count": null,
   "metadata": {},
   "outputs": [],
   "source": [
    "# Get trivial facts NICU patient 2\n",
    "A_trivial = get_annotation_table(\n",
    "    data=annotatie_data,\n",
    "    patient_id=\"patient_2_nicu\",\n",
    "    annotator={\"Anna\": student_1_mail},\n",
    "    letter_type=\"ORG letter\",\n",
    "    evaluation_type=\"highlighted_trivial_information\",\n",
    ")\n",
    "Z_trivial = get_annotation_table(\n",
    "    data=annotatie_data,\n",
    "    patient_id=\"patient_2_nicu\",\n",
    "    annotator={\"Zoë\": student_2_mail},\n",
    "    letter_type=\"ORG letter\",\n",
    "    evaluation_type=\"highlighted_trivial_information\",\n",
    ")\n",
    "\n",
    "display(A_trivial)\n",
    "display(Z_trivial)"
   ]
  },
  {
   "cell_type": "markdown",
   "metadata": {},
   "source": [
    "## GPT PATIENT 2 NICU LETTER"
   ]
  },
  {
   "cell_type": "code",
   "execution_count": null,
   "metadata": {},
   "outputs": [],
   "source": [
    "# Get omissions NICU patient 2\n",
    "A_omission = get_annotation_table(\n",
    "    data=annotatie_data,\n",
    "    patient_id=\"patient_2_nicu\",\n",
    "    annotator={\"Anna\": student_1_mail},\n",
    "    letter_type=\"GPT letter\",\n",
    "    evaluation_type=\"highlighted_missings\",\n",
    ")\n",
    "Z_omission = get_annotation_table(\n",
    "    data=annotatie_data,\n",
    "    patient_id=\"patient_2_nicu\",\n",
    "    annotator={\"Zoë\": student_2_mail},\n",
    "    letter_type=\"GPT letter\",\n",
    "    evaluation_type=\"highlighted_missings\",\n",
    ")\n",
    "\n",
    "display(A_omission)\n",
    "display(Z_omission)"
   ]
  },
  {
   "cell_type": "code",
   "execution_count": null,
   "metadata": {},
   "outputs": [],
   "source": [
    "# Get hallucinations NICU patient 2\n",
    "A_hallucination = get_annotation_table(\n",
    "    data=annotatie_data,\n",
    "    patient_id=\"patient_2_nicu\",\n",
    "    annotator={\"Anna\": student_1_mail},\n",
    "    letter_type=\"GPT letter\",\n",
    "    evaluation_type=\"highlighted_halucinations\",\n",
    ")\n",
    "Z_hallucination = get_annotation_table(\n",
    "    data=annotatie_data,\n",
    "    patient_id=\"patient_2_nicu\",\n",
    "    annotator={\"Zoë\": student_2_mail},\n",
    "    letter_type=\"GPT letter\",\n",
    "    evaluation_type=\"highlighted_halucinations\",\n",
    ")\n",
    "\n",
    "display(A_hallucination)\n",
    "display(Z_hallucination)"
   ]
  },
  {
   "cell_type": "code",
   "execution_count": null,
   "metadata": {},
   "outputs": [],
   "source": [
    "# Get trivial facts NICU patient 2\n",
    "A_trivial = get_annotation_table(\n",
    "    data=annotatie_data,\n",
    "    patient_id=\"patient_2_nicu\",\n",
    "    annotator={\"Anna\": student_1_mail},\n",
    "    letter_type=\"GPT letter\",\n",
    "    evaluation_type=\"highlighted_trivial_information\",\n",
    ")\n",
    "Z_trivial = get_annotation_table(\n",
    "    data=annotatie_data,\n",
    "    patient_id=\"patient_2_nicu\",\n",
    "    annotator={\"Zoë\": student_2_mail},\n",
    "    letter_type=\"GPT letter\",\n",
    "    evaluation_type=\"highlighted_trivial_information\",\n",
    ")\n",
    "\n",
    "display(A_trivial)\n",
    "display(Z_trivial)"
   ]
  },
  {
   "cell_type": "markdown",
   "metadata": {},
   "source": [
    "## ORIGINAL PATIENT 3 NICU LETTER"
   ]
  },
  {
   "cell_type": "code",
   "execution_count": null,
   "metadata": {},
   "outputs": [],
   "source": [
    "# Get omissions NICU patient 3\n",
    "A_omission = get_annotation_table(\n",
    "    data=annotatie_data,\n",
    "    patient_id=\"patient_3_nicu\",\n",
    "    annotator={\"Anna\": student_1_mail},\n",
    "    letter_type=\"ORG letter\",\n",
    "    evaluation_type=\"highlighted_missings\",\n",
    ")\n",
    "Z_omission = get_annotation_table(\n",
    "    data=annotatie_data,\n",
    "    patient_id=\"patient_3_nicu\",\n",
    "    annotator={\"Zoë\": student_2_mail},\n",
    "    letter_type=\"ORG letter\",\n",
    "    evaluation_type=\"highlighted_missings\",\n",
    ")\n",
    "\n",
    "display(A_omission)\n",
    "display(Z_omission)"
   ]
  },
  {
   "cell_type": "code",
   "execution_count": null,
   "metadata": {},
   "outputs": [],
   "source": [
    "# Get hallucinations NICU patient 3\n",
    "A_hallucination = get_annotation_table(\n",
    "    data=annotatie_data,\n",
    "    patient_id=\"patient_3_nicu\",\n",
    "    annotator={\"Anna\": student_1_mail},\n",
    "    letter_type=\"ORG letter\",\n",
    "    evaluation_type=\"highlighted_halucinations\",\n",
    ")\n",
    "Z_hallucination = get_annotation_table(\n",
    "    data=annotatie_data,\n",
    "    patient_id=\"patient_3_nicu\",\n",
    "    annotator={\"Zoë\": student_2_mail},\n",
    "    letter_type=\"ORG letter\",\n",
    "    evaluation_type=\"highlighted_halucinations\",\n",
    ")\n",
    "\n",
    "display(A_hallucination)\n",
    "display(Z_hallucination)"
   ]
  },
  {
   "cell_type": "code",
   "execution_count": null,
   "metadata": {},
   "outputs": [],
   "source": [
    "# Get trivial facts NICU patient 3\n",
    "A_trivial = get_annotation_table(\n",
    "    data=annotatie_data,\n",
    "    patient_id=\"patient_3_nicu\",\n",
    "    annotator={\"Anna\": student_1_mail},\n",
    "    letter_type=\"ORG letter\",\n",
    "    evaluation_type=\"highlighted_trivial_information\",\n",
    ")\n",
    "Z_trivial = get_annotation_table(\n",
    "    data=annotatie_data,\n",
    "    patient_id=\"patient_3_nicu\",\n",
    "    annotator={\"Zoë\": student_2_mail},\n",
    "    letter_type=\"ORG letter\",\n",
    "    evaluation_type=\"highlighted_trivial_information\",\n",
    ")\n",
    "\n",
    "display(A_trivial)\n",
    "display(Z_trivial)"
   ]
  }
 ],
 "metadata": {
  "kernelspec": {
   "display_name": "Python 3.9.7 ('base')",
   "language": "python",
   "name": "python3"
  },
  "language_info": {
   "codemirror_mode": {
    "name": "ipython",
    "version": 3
   },
   "file_extension": ".py",
   "mimetype": "text/x-python",
   "name": "python",
   "nbconvert_exporter": "python",
   "pygments_lexer": "ipython3",
   "version": "3.10.2"
  },
  "vscode": {
   "interpreter": {
    "hash": "40d3a090f54c6569ab1632332b64b2c03c39dcf918b08424e98f38b5ae0af88f"
   }
  }
 },
 "nbformat": 4,
 "nbformat_minor": 2
}
