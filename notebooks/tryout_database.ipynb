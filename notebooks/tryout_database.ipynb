{
 "cells": [
  {
   "cell_type": "markdown",
   "metadata": {},
   "source": [
    "# Try out the database models for the dashboard\n",
    "\n",
    "Temporary notebook to show usage of the sqlalchemy models"
   ]
  },
  {
   "cell_type": "markdown",
   "metadata": {},
   "source": [
    "## Import packages"
   ]
  },
  {
   "cell_type": "code",
   "execution_count": null,
   "metadata": {},
   "outputs": [],
   "source": [
    "from datetime import datetime\n",
    "\n",
    "from sqlalchemy import create_engine, select\n",
    "from sqlalchemy.orm import sessionmaker\n",
    "\n",
    "from discharge_docs.database.models import (\n",
    "    Base,\n",
    "    DashEvaluation,\n",
    "    DashSession,\n",
    "    DashUserPrompt,\n",
    ")"
   ]
  },
  {
   "cell_type": "markdown",
   "metadata": {},
   "source": [
    "## Create tables"
   ]
  },
  {
   "cell_type": "code",
   "execution_count": null,
   "metadata": {},
   "outputs": [],
   "source": [
    "execution_options = {\"schema_translate_map\": {\"aiva-discharge\": None}}\n",
    "engine = create_engine(\n",
    "    \"sqlite:///:memory:\", execution_options=execution_options\n",
    ")  # Uses an in-memory database\n",
    "Base.metadata.create_all(engine)"
   ]
  },
  {
   "cell_type": "markdown",
   "metadata": {},
   "source": [
    "## Add data to database"
   ]
  },
  {
   "cell_type": "code",
   "execution_count": null,
   "metadata": {},
   "outputs": [],
   "source": [
    "session = sessionmaker(bind=engine)()\n",
    "\n",
    "new_dash_session = DashSession(\n",
    "    timestamp=datetime.now(),\n",
    "    user=\"test_user\",\n",
    "    department=\"test_department\",\n",
    "    version=\"0.0.1\",\n",
    ")\n",
    "new_dash_session"
   ]
  },
  {
   "cell_type": "code",
   "execution_count": null,
   "metadata": {},
   "outputs": [],
   "source": [
    "new_user_prompt = DashUserPrompt(\n",
    "    prompt=\"Some smart prompt that someone added to ours\",\n",
    "    session_relation=new_dash_session,\n",
    ")\n",
    "new_user_prompt"
   ]
  },
  {
   "cell_type": "code",
   "execution_count": null,
   "metadata": {},
   "outputs": [],
   "source": [
    "new_evaluation = DashEvaluation(\n",
    "    evaluation_metric=\"ROUGE\",\n",
    "    evaluation_value=0.5,\n",
    ")\n",
    "new_evaluation"
   ]
  },
  {
   "cell_type": "code",
   "execution_count": null,
   "metadata": {},
   "outputs": [],
   "source": [
    "new_user_prompt.evaluation_relation.append(new_evaluation)\n",
    "new_user_prompt"
   ]
  },
  {
   "cell_type": "code",
   "execution_count": null,
   "metadata": {},
   "outputs": [],
   "source": [
    "session.add(new_user_prompt)\n",
    "session.commit()"
   ]
  },
  {
   "cell_type": "markdown",
   "metadata": {},
   "source": [
    "## Retrieve data from database"
   ]
  },
  {
   "cell_type": "code",
   "execution_count": null,
   "metadata": {},
   "outputs": [],
   "source": [
    "session.scalars(select(DashUserPrompt)).all()"
   ]
  },
  {
   "cell_type": "code",
   "execution_count": null,
   "metadata": {},
   "outputs": [],
   "source": [
    "session.scalars(select(DashEvaluation)).all()"
   ]
  },
  {
   "cell_type": "code",
   "execution_count": null,
   "metadata": {},
   "outputs": [],
   "source": [
    "session.scalars(select(DashSession)).all()"
   ]
  }
 ],
 "metadata": {
  "kernelspec": {
   "display_name": "discharge_documentation_env",
   "language": "python",
   "name": "python3"
  },
  "language_info": {
   "codemirror_mode": {
    "name": "ipython",
    "version": 3
   },
   "file_extension": ".py",
   "mimetype": "text/x-python",
   "name": "python",
   "nbconvert_exporter": "python",
   "pygments_lexer": "ipython3",
   "version": "3.10.13"
  }
 },
 "nbformat": 4,
 "nbformat_minor": 2
}
