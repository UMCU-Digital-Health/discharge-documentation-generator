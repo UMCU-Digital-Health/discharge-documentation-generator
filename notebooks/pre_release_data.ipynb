{
 "cells": [
  {
   "cell_type": "code",
   "execution_count": null,
   "metadata": {},
   "outputs": [],
   "source": [
    "from pathlib import Path\n",
    "\n",
    "import numpy as np\n",
    "import pandas as pd\n",
    "import tiktoken"
   ]
  },
  {
   "cell_type": "code",
   "execution_count": null,
   "metadata": {},
   "outputs": [],
   "source": [
    "# load data\n",
    "data = pd.read_parquet(\n",
    "    Path.cwd().parent\n",
    "    / \"data\"\n",
    "    / \"raw\"\n",
    "    / \"pseudonomised_metavision_data_april.parquet\"\n",
    ")\n",
    "display(data)"
   ]
  },
  {
   "cell_type": "code",
   "execution_count": null,
   "metadata": {},
   "outputs": [],
   "source": [
    "data.columns"
   ]
  },
  {
   "cell_type": "code",
   "execution_count": null,
   "metadata": {},
   "outputs": [],
   "source": [
    "# drop all nans in data\n",
    "data = data.dropna(subset=[\"code_display_original\"])\n",
    "\n",
    "print(data.code_display_original.sort_values().unique())\n",
    "\n",
    "\n",
    "\n",
    "grouped = data.groupby(\"location_Location_value_original\")['code_display_original'].unique()\n",
    "display(grouped)\n",
    "\n",
    "# print all \n",
    "for location, codes in grouped.items():\n",
    "    print(f\"Location: {location}\")\n",
    "    print(f\"Codes: {np.sort(codes)}\")\n",
    "    print(\"\\n\")"
   ]
  },
  {
   "cell_type": "code",
   "execution_count": null,
   "metadata": {},
   "outputs": [],
   "source": [
    "data = pd.read_parquet(\n",
    "    Path.cwd().parent / \"data\" / \"processed\" / \"metavision_data_april_dp.parquet\"\n",
    ")\n",
    "display(data)"
   ]
  },
  {
   "cell_type": "code",
   "execution_count": null,
   "metadata": {},
   "outputs": [],
   "source": [
    "data.groupby(\"department\")['enc_id'].nunique()\n",
    "\n",
    "# random sample three enc_ids\n",
    "random_sample = data.groupby('department')[['department','enc_id']].sample(5, random_state=46)\n",
    "display(random_sample)\n"
   ]
  },
  {
   "cell_type": "code",
   "execution_count": null,
   "metadata": {},
   "outputs": [],
   "source": [
    "# filter to only use the random sample of enc_ids\n",
    "df = data[data.enc_id.isin(random_sample.enc_id)]\n",
    "display(df)\n",
    "display(df[df.description == \"Ontslagbrief\"])"
   ]
  },
  {
   "cell_type": "code",
   "execution_count": null,
   "metadata": {},
   "outputs": [],
   "source": [
    "encoding = tiktoken.get_encoding(\"cl100k_base\")\n",
    "encs_to_remove = []\n",
    "for dep in data.department.unique():\n",
    "    print(\"department:\", dep)\n",
    "    df_temp = data[data.department == dep]\n",
    "    encs = []\n",
    "    longer_encs = []\n",
    "    for enc_id in df_temp[\"enc_id\"].unique():\n",
    "        dep = df_temp[df_temp[\"enc_id\"] == enc_id].department.unique()\n",
    "        patient_data_string = \" \".join(df_temp[df_temp[\"enc_id\"] == enc_id][\"value\"])\n",
    "        print(\n",
    "            f\"The number of tokens in encounter {enc_id} with length of stay: {len(encoding.encode(patient_data_string))}\"\n",
    "        )\n",
    "        print(f'length of stay was {df_temp[df_temp[\"enc_id\"] == enc_id][\"length_of_stay\"].unique()}')\n",
    "        if len(encoding.encode(patient_data_string)) < 128000:\n",
    "            encs.append(enc_id)\n",
    "        else:\n",
    "            longer_encs.append(enc_id)\n",
    "            encs_to_remove.append(enc_id)\n",
    "            print(f\"Encounter {enc_id} is longer than 120000 tokens\")\n",
    "\n",
    "    print(encs)\n",
    "    print(longer_encs)\n",
    "print(encs_to_remove)"
   ]
  },
  {
   "cell_type": "code",
   "execution_count": null,
   "metadata": {},
   "outputs": [],
   "source": [
    "# drop the encs from encs_to_remove\n",
    "data = data[~data[\"enc_id\"].isin(encs_to_remove)]\n",
    "data.groupby(\"department\")['enc_id'].nunique()\n",
    "# for april it was only 3 for the IC and 7 for the NICU that were removed\n",
    "\n",
    "# save back to parquet\n",
    "data.to_parquet(\n",
    "    Path.cwd().parent / \"data\" / \"processed\" / \"metavision_data_april_dp.parquet\"\n",
    ")"
   ]
  },
  {
   "cell_type": "code",
   "execution_count": null,
   "metadata": {},
   "outputs": [],
   "source": []
  }
 ],
 "metadata": {
  "language_info": {
   "name": "python"
  }
 },
 "nbformat": 4,
 "nbformat_minor": 2
}
