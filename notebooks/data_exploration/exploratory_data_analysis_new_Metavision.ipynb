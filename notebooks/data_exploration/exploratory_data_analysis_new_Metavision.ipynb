{
 "cells": [
  {
   "cell_type": "markdown",
   "metadata": {},
   "source": [
    "# Exploratory analysis of the new Metavision export"
   ]
  },
  {
   "cell_type": "code",
   "execution_count": null,
   "metadata": {},
   "outputs": [],
   "source": [
    "%load_ext autoreload\n",
    "%autoreload 2"
   ]
  },
  {
   "cell_type": "code",
   "execution_count": null,
   "metadata": {},
   "outputs": [],
   "source": [
    "import os\n",
    "\n",
    "import matplotlib.pyplot as plt\n",
    "import pandas as pd\n",
    "import tiktoken\n",
    "\n",
    "from discharge_docs.processing.processing import get_patient_file\n",
    "\n",
    "os.environ[\"TIKTOKEN_CACHE_DIR\"] = \"\"\n",
    "os.environ[\"TIKTOKEN_CACHE_DIR\"] = \"\""
   ]
  },
  {
   "cell_type": "code",
   "execution_count": null,
   "metadata": {},
   "outputs": [],
   "source": [
    "# read data\n",
    "df = pd.read_parquet(\"../data/processed/metavision_new_data.parquet\")"
   ]
  },
  {
   "cell_type": "code",
   "execution_count": null,
   "metadata": {},
   "outputs": [],
   "source": [
    "display(df.head())"
   ]
  },
  {
   "cell_type": "code",
   "execution_count": null,
   "metadata": {},
   "outputs": [],
   "source": [
    "df.groupby(\"department\")['enc_id'].nunique()"
   ]
  },
  {
   "cell_type": "code",
   "execution_count": null,
   "metadata": {},
   "outputs": [],
   "source": [
    "# verdeling patieten over de afdelingen\n",
    "print(\"Totaal aantal datapunten:\")\n",
    "print(df[\"department\"].value_counts())\n",
    "print(\"Aantal patienten:\")\n",
    "df.groupby(\"department\")[\"enc_id\"].nunique().plot(kind=\"pie\", autopct=\"%d\")\n",
    "plt.ylabel(\"\")\n",
    "plt.title(\"Aantal patienten per afdeling in de data\")\n",
    "plt.show()"
   ]
  },
  {
   "cell_type": "code",
   "execution_count": null,
   "metadata": {},
   "outputs": [],
   "source": [
    "# Lengte van opname:\n",
    "df.groupby([\"enc_id\"])[\"length_of_stay\"].mean().plot(kind=\"hist\", bins=50)\n",
    "plt.xlabel(\"length of stay (days)\")\n",
    "plt.show()\n",
    "\n",
    "# print averages per department\n",
    "print(\"Gemiddelde leeftijd per afdeling:\")\n",
    "print(df.groupby(\"department\")[\"length_of_stay\"].mean())"
   ]
  },
  {
   "cell_type": "code",
   "execution_count": null,
   "metadata": {},
   "outputs": [],
   "source": [
    "def get_token_length(enc_id):\n",
    "    encoding = tiktoken.get_encoding(\"cl100k_base\")\n",
    "    patient_data_string, patient_file = get_patient_file(df, enc_id)\n",
    "    department = patient_file.department.values[0]\n",
    "    token_length = len(encoding.encode(patient_data_string))\n",
    "    return enc_id, department, token_length\n",
    "\n",
    "results = []\n",
    "for enc_id in df.enc_id.unique():\n",
    "    result = get_token_length(enc_id)\n",
    "    results.append(result)\n",
    "\n",
    "df_results = pd.DataFrame(results, columns=['enc_id', 'department', 'token_length'])\n",
    "display(df_results)\n",
    "\n",
    "print(df_results.groupby(\"department\")[\"token_length\"].mean())\n",
    "print(df_results.groupby(\"department\")[\"token_length\"].max())"
   ]
  },
  {
   "cell_type": "code",
   "execution_count": null,
   "metadata": {},
   "outputs": [],
   "source": [
    "\n",
    "encoding = tiktoken.get_encoding(\"cl100k_base\")\n",
    "\n",
    "\n",
    "file_sizes = []\n",
    "length_of_stay = []\n",
    "for enc_id in df[\"enc_id\"].unique():\n",
    "    patient_data_string, patient_file = get_patient_file(df, enc_id)\n",
    "    file_sizes.append(len(encoding.encode(patient_data_string)))\n",
    "    length_of_stay.append(df[df[\"enc_id\"] == enc_id][\"length_of_stay\"].iloc[0])"
   ]
  },
  {
   "cell_type": "code",
   "execution_count": null,
   "metadata": {},
   "outputs": [],
   "source": [
    "plt.hist(file_sizes, bins=50)\n",
    "plt.show()"
   ]
  },
  {
   "cell_type": "code",
   "execution_count": null,
   "metadata": {},
   "outputs": [],
   "source": [
    "plt.scatter(file_sizes, length_of_stay)\n",
    "plt.xlim(16000, 200000)\n",
    "plt.ylim(0, 20)"
   ]
  }
 ],
 "metadata": {
  "kernelspec": {
   "display_name": "aiva_ontslag_laura",
   "language": "python",
   "name": "python3"
  },
  "language_info": {
   "codemirror_mode": {
    "name": "ipython",
    "version": 3
   },
   "file_extension": ".py",
   "mimetype": "text/x-python",
   "name": "python",
   "nbconvert_exporter": "python",
   "pygments_lexer": "ipython3",
   "version": "3.10.13"
  }
 },
 "nbformat": 4,
 "nbformat_minor": 2
}
